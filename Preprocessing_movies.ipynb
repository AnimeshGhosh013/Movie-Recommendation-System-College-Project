{
 "cells": [
  {
   "cell_type": "code",
   "execution_count": 2,
   "id": "0dc28425",
   "metadata": {},
   "outputs": [],
   "source": [
    "import pandas as pd"
   ]
  },
  {
   "cell_type": "code",
   "execution_count": 3,
   "id": "66111620",
   "metadata": {},
   "outputs": [],
   "source": [
    "movies = pd.read_csv(\"C:/Users/animesh.ghosh/Desktop/Project/dataset/ml-latest-small/movies.csv\")"
   ]
  },
  {
   "cell_type": "code",
   "execution_count": 4,
   "id": "4093d7a4",
   "metadata": {},
   "outputs": [
    {
     "data": {
      "text/html": [
       "<div>\n",
       "<style scoped>\n",
       "    .dataframe tbody tr th:only-of-type {\n",
       "        vertical-align: middle;\n",
       "    }\n",
       "\n",
       "    .dataframe tbody tr th {\n",
       "        vertical-align: top;\n",
       "    }\n",
       "\n",
       "    .dataframe thead th {\n",
       "        text-align: right;\n",
       "    }\n",
       "</style>\n",
       "<table border=\"1\" class=\"dataframe\">\n",
       "  <thead>\n",
       "    <tr style=\"text-align: right;\">\n",
       "      <th></th>\n",
       "      <th>movieId</th>\n",
       "      <th>title</th>\n",
       "      <th>genres</th>\n",
       "    </tr>\n",
       "  </thead>\n",
       "  <tbody>\n",
       "    <tr>\n",
       "      <th>0</th>\n",
       "      <td>1</td>\n",
       "      <td>Toy Story (1995)</td>\n",
       "      <td>Adventure|Animation|Children|Comedy|Fantasy</td>\n",
       "    </tr>\n",
       "    <tr>\n",
       "      <th>1</th>\n",
       "      <td>2</td>\n",
       "      <td>Jumanji (1995)</td>\n",
       "      <td>Adventure|Children|Fantasy</td>\n",
       "    </tr>\n",
       "    <tr>\n",
       "      <th>2</th>\n",
       "      <td>3</td>\n",
       "      <td>Grumpier Old Men (1995)</td>\n",
       "      <td>Comedy|Romance</td>\n",
       "    </tr>\n",
       "    <tr>\n",
       "      <th>3</th>\n",
       "      <td>4</td>\n",
       "      <td>Waiting to Exhale (1995)</td>\n",
       "      <td>Comedy|Drama|Romance</td>\n",
       "    </tr>\n",
       "    <tr>\n",
       "      <th>4</th>\n",
       "      <td>5</td>\n",
       "      <td>Father of the Bride Part II (1995)</td>\n",
       "      <td>Comedy</td>\n",
       "    </tr>\n",
       "  </tbody>\n",
       "</table>\n",
       "</div>"
      ],
      "text/plain": [
       "   movieId                               title   \n",
       "0        1                    Toy Story (1995)  \\\n",
       "1        2                      Jumanji (1995)   \n",
       "2        3             Grumpier Old Men (1995)   \n",
       "3        4            Waiting to Exhale (1995)   \n",
       "4        5  Father of the Bride Part II (1995)   \n",
       "\n",
       "                                        genres  \n",
       "0  Adventure|Animation|Children|Comedy|Fantasy  \n",
       "1                   Adventure|Children|Fantasy  \n",
       "2                               Comedy|Romance  \n",
       "3                         Comedy|Drama|Romance  \n",
       "4                                       Comedy  "
      ]
     },
     "execution_count": 4,
     "metadata": {},
     "output_type": "execute_result"
    }
   ],
   "source": [
    "movies.head()"
   ]
  },
  {
   "cell_type": "code",
   "execution_count": 5,
   "id": "8de8ff4e",
   "metadata": {},
   "outputs": [
    {
     "data": {
      "text/plain": [
       "9742"
      ]
     },
     "execution_count": 5,
     "metadata": {},
     "output_type": "execute_result"
    }
   ],
   "source": [
    "len(movies)"
   ]
  },
  {
   "cell_type": "code",
   "execution_count": 6,
   "id": "12b33203",
   "metadata": {},
   "outputs": [
    {
     "name": "stdout",
     "output_type": "stream",
     "text": [
      "{'Sci-Fi', 'Romance', 'Thriller', 'IMAX', 'Comedy', 'Children', 'Western', 'Crime', 'Adventure', 'Action', 'Drama', 'Mystery', 'Animation', 'Documentary', 'Fantasy', 'War', 'Horror', 'Film-Noir', '(no genres listed)', 'Musical'}\n"
     ]
    }
   ],
   "source": [
    "genre = set(('|'.join(list(movies.iloc[:,2]))).split('|'))\n",
    "print(genre)"
   ]
  },
  {
   "cell_type": "code",
   "execution_count": 7,
   "id": "501d11e5",
   "metadata": {},
   "outputs": [
    {
     "data": {
      "text/plain": [
       "{'Sci-Fi': 0,\n",
       " 'Romance': 1,\n",
       " 'Thriller': 2,\n",
       " 'IMAX': 3,\n",
       " 'Comedy': 4,\n",
       " 'Children': 5,\n",
       " 'Western': 6,\n",
       " 'Crime': 7,\n",
       " 'Adventure': 8,\n",
       " 'Action': 9,\n",
       " 'Drama': 10,\n",
       " 'Mystery': 11,\n",
       " 'Animation': 12,\n",
       " 'Documentary': 13,\n",
       " 'Fantasy': 14,\n",
       " 'War': 15,\n",
       " 'Horror': 16,\n",
       " 'Film-Noir': 17,\n",
       " '(no genres listed)': 18,\n",
       " 'Musical': 19}"
      ]
     },
     "execution_count": 7,
     "metadata": {},
     "output_type": "execute_result"
    }
   ],
   "source": [
    "genreDict = {}\n",
    "ind = 0\n",
    "for i in genre:\n",
    "    genreDict.update({i:ind})\n",
    "    ind+=1\n",
    "genreDict"
   ]
  },
  {
   "cell_type": "code",
   "execution_count": 8,
   "id": "471395ed",
   "metadata": {},
   "outputs": [],
   "source": [
    "def convert(list_genre):\n",
    "    list_genre = list_genre.split('|')\n",
    "    res = [0 for i in range(len(genre))]\n",
    "    for i in list_genre:\n",
    "        res[genreDict[i]]=1\n",
    "    st = ''\n",
    "    for i in res:\n",
    "        st+=str(i)\n",
    "    return st\n",
    "    "
   ]
  },
  {
   "cell_type": "code",
   "execution_count": 9,
   "id": "dda4d570",
   "metadata": {},
   "outputs": [
    {
     "data": {
      "text/plain": [
       "'10000000000010000000'"
      ]
     },
     "execution_count": 9,
     "metadata": {},
     "output_type": "execute_result"
    }
   ],
   "source": [
    "convert(\"Animation|Sci-Fi\")"
   ]
  },
  {
   "cell_type": "code",
   "execution_count": 10,
   "id": "33b7c3f9",
   "metadata": {},
   "outputs": [],
   "source": [
    "mod1_moviesdf = pd.DataFrame({\"movieID\":movies.iloc[:,0],\"title\":movies.iloc[:,1],\"genre\":[convert(i) for i in movies.iloc[:,2]]})"
   ]
  },
  {
   "cell_type": "code",
   "execution_count": 11,
   "id": "7499613b",
   "metadata": {},
   "outputs": [
    {
     "data": {
      "text/html": [
       "<div>\n",
       "<style scoped>\n",
       "    .dataframe tbody tr th:only-of-type {\n",
       "        vertical-align: middle;\n",
       "    }\n",
       "\n",
       "    .dataframe tbody tr th {\n",
       "        vertical-align: top;\n",
       "    }\n",
       "\n",
       "    .dataframe thead th {\n",
       "        text-align: right;\n",
       "    }\n",
       "</style>\n",
       "<table border=\"1\" class=\"dataframe\">\n",
       "  <thead>\n",
       "    <tr style=\"text-align: right;\">\n",
       "      <th></th>\n",
       "      <th>movieID</th>\n",
       "      <th>title</th>\n",
       "      <th>genre</th>\n",
       "    </tr>\n",
       "  </thead>\n",
       "  <tbody>\n",
       "    <tr>\n",
       "      <th>0</th>\n",
       "      <td>1</td>\n",
       "      <td>Toy Story (1995)</td>\n",
       "      <td>00001100100010100000</td>\n",
       "    </tr>\n",
       "    <tr>\n",
       "      <th>1</th>\n",
       "      <td>2</td>\n",
       "      <td>Jumanji (1995)</td>\n",
       "      <td>00000100100000100000</td>\n",
       "    </tr>\n",
       "    <tr>\n",
       "      <th>2</th>\n",
       "      <td>3</td>\n",
       "      <td>Grumpier Old Men (1995)</td>\n",
       "      <td>01001000000000000000</td>\n",
       "    </tr>\n",
       "    <tr>\n",
       "      <th>3</th>\n",
       "      <td>4</td>\n",
       "      <td>Waiting to Exhale (1995)</td>\n",
       "      <td>01001000001000000000</td>\n",
       "    </tr>\n",
       "    <tr>\n",
       "      <th>4</th>\n",
       "      <td>5</td>\n",
       "      <td>Father of the Bride Part II (1995)</td>\n",
       "      <td>00001000000000000000</td>\n",
       "    </tr>\n",
       "  </tbody>\n",
       "</table>\n",
       "</div>"
      ],
      "text/plain": [
       "   movieID                               title                 genre\n",
       "0        1                    Toy Story (1995)  00001100100010100000\n",
       "1        2                      Jumanji (1995)  00000100100000100000\n",
       "2        3             Grumpier Old Men (1995)  01001000000000000000\n",
       "3        4            Waiting to Exhale (1995)  01001000001000000000\n",
       "4        5  Father of the Bride Part II (1995)  00001000000000000000"
      ]
     },
     "execution_count": 11,
     "metadata": {},
     "output_type": "execute_result"
    }
   ],
   "source": [
    "mod1_moviesdf.head()"
   ]
  },
  {
   "cell_type": "code",
   "execution_count": 12,
   "id": "fe86c054",
   "metadata": {},
   "outputs": [
    {
     "data": {
      "text/plain": [
       "9742"
      ]
     },
     "execution_count": 12,
     "metadata": {},
     "output_type": "execute_result"
    }
   ],
   "source": [
    "len(movies)"
   ]
  },
  {
   "cell_type": "code",
   "execution_count": 13,
   "id": "a7d70e44",
   "metadata": {},
   "outputs": [
    {
     "data": {
      "text/plain": [
       "9742"
      ]
     },
     "execution_count": 13,
     "metadata": {},
     "output_type": "execute_result"
    }
   ],
   "source": [
    "len(mod1_moviesdf)"
   ]
  },
  {
   "cell_type": "code",
   "execution_count": null,
   "id": "40bea4a3",
   "metadata": {},
   "outputs": [],
   "source": []
  }
 ],
 "metadata": {
  "kernelspec": {
   "display_name": "Python 3 (ipykernel)",
   "language": "python",
   "name": "python3"
  },
  "language_info": {
   "codemirror_mode": {
    "name": "ipython",
    "version": 3
   },
   "file_extension": ".py",
   "mimetype": "text/x-python",
   "name": "python",
   "nbconvert_exporter": "python",
   "pygments_lexer": "ipython3",
   "version": "3.11.2"
  }
 },
 "nbformat": 4,
 "nbformat_minor": 5
}
